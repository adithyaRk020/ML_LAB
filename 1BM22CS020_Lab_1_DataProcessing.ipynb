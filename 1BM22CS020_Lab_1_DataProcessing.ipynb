{
  "nbformat": 4,
  "nbformat_minor": 0,
  "metadata": {
    "colab": {
      "provenance": [],
      "authorship_tag": "ABX9TyODayaTw1heLgWBKO4H06y8",
      "include_colab_link": true
    },
    "kernelspec": {
      "name": "python3",
      "display_name": "Python 3"
    },
    "language_info": {
      "name": "python"
    }
  },
  "cells": [
    {
      "cell_type": "markdown",
      "metadata": {
        "id": "view-in-github",
        "colab_type": "text"
      },
      "source": [
        "<a href=\"https://colab.research.google.com/github/adithyaRk020/ML_LAB/blob/main/1BM22CS020_Lab_1_DataProcessing.ipynb\" target=\"_parent\"><img src=\"https://colab.research.google.com/assets/colab-badge.svg\" alt=\"Open In Colab\"/></a>"
      ]
    },
    {
      "cell_type": "code",
      "execution_count": 4,
      "metadata": {
        "colab": {
          "base_uri": "https://localhost:8080/"
        },
        "id": "Dj2IOw7UUIY_",
        "outputId": "44211eed-ea23-4523-e89e-64beef4c0899"
      },
      "outputs": [
        {
          "output_type": "stream",
          "name": "stdout",
          "text": [
            "Dataset Information:\n",
            "<class 'pandas.core.frame.DataFrame'>\n",
            "RangeIndex: 20640 entries, 0 to 20639\n",
            "Data columns (total 9 columns):\n",
            " #   Column       Non-Null Count  Dtype  \n",
            "---  ------       --------------  -----  \n",
            " 0   MedInc       20640 non-null  float64\n",
            " 1   HouseAge     20640 non-null  float64\n",
            " 2   AveRooms     20640 non-null  float64\n",
            " 3   AveBedrms    20640 non-null  float64\n",
            " 4   Population   20640 non-null  float64\n",
            " 5   AveOccup     20640 non-null  float64\n",
            " 6   Latitude     20640 non-null  float64\n",
            " 7   Longitude    20640 non-null  float64\n",
            " 8   MedHouseVal  20640 non-null  float64\n",
            "dtypes: float64(9)\n",
            "memory usage: 1.4 MB\n",
            "None\n",
            "\n",
            "Statistical Summary of Numerical Columns:\n",
            "             MedInc      HouseAge      AveRooms     AveBedrms    Population  \\\n",
            "count  20640.000000  20640.000000  20640.000000  20640.000000  20640.000000   \n",
            "mean       3.870671     28.639486      5.429000      1.096675   1425.476744   \n",
            "std        1.899822     12.585558      2.474173      0.473911   1132.462122   \n",
            "min        0.499900      1.000000      0.846154      0.333333      3.000000   \n",
            "25%        2.563400     18.000000      4.440716      1.006079    787.000000   \n",
            "50%        3.534800     29.000000      5.229129      1.048780   1166.000000   \n",
            "75%        4.743250     37.000000      6.052381      1.099526   1725.000000   \n",
            "max       15.000100     52.000000    141.909091     34.066667  35682.000000   \n",
            "\n",
            "           AveOccup      Latitude     Longitude   MedHouseVal  \n",
            "count  20640.000000  20640.000000  20640.000000  20640.000000  \n",
            "mean       3.070655     35.631861   -119.569704      2.068558  \n",
            "std       10.386050      2.135952      2.003532      1.153956  \n",
            "min        0.692308     32.540000   -124.350000      0.149990  \n",
            "25%        2.429741     33.930000   -121.800000      1.196000  \n",
            "50%        2.818116     34.260000   -118.490000      1.797000  \n",
            "75%        3.282261     37.710000   -118.010000      2.647250  \n",
            "max     1243.333333     41.950000   -114.310000      5.000010  \n",
            "\n",
            "Count of Unique Labels in 'Ocean Proximity' Column:\n",
            "Ocean Proximity\n",
            "Inland        7870\n",
            "Island        4568\n",
            "Near Bay      4489\n",
            "Near Ocean    1991\n",
            "Ocean         1722\n",
            "Name: count, dtype: int64\n",
            "\n",
            "Columns with Missing Values:\n",
            "No missing values found\n"
          ]
        }
      ],
      "source": [
        "import pandas as pd\n",
        "from sklearn.datasets import fetch_california_housing\n",
        "\n",
        "housing_data = fetch_california_housing()\n",
        "\n",
        "df = pd.DataFrame(housing_data.data, columns=housing_data.feature_names)\n",
        "\n",
        "df[\"MedHouseVal\"] = housing_data.target\n",
        "\n",
        "print(\"Dataset Information:\")\n",
        "print(df.info())\n",
        "\n",
        "print(\"\\nStatistical Summary of Numerical Columns:\")\n",
        "print(df.describe())\n",
        "\n",
        "df[\"Ocean Proximity\"] = pd.cut(df[\"MedHouseVal\"], bins=5, labels=[\"Near Bay\", \"Inland\", \"Island\", \"Near Ocean\", \"Ocean\"])\n",
        "print(\"\\nCount of Unique Labels in 'Ocean Proximity' Column:\")\n",
        "print(df[\"Ocean Proximity\"].value_counts())\n",
        "\n",
        "missing_values = df.isnull().sum()\n",
        "columns_with_missing = missing_values[missing_values > 0]\n",
        "\n",
        "print(\"\\nColumns with Missing Values:\")\n",
        "print(columns_with_missing if not columns_with_missing.empty else \"No missing values found\")"
      ]
    }
  ]
}